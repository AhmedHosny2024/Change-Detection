{
 "cells": [
  {
   "cell_type": "code",
   "execution_count": 3,
   "metadata": {},
   "outputs": [
    {
     "name": "stdout",
     "output_type": "stream",
     "text": [
      "<class 'numpy.ndarray'> [1 1 1]\n"
     ]
    },
    {
     "data": {
      "text/plain": [
       "0.6666666666666666"
      ]
     },
     "execution_count": 3,
     "metadata": {},
     "output_type": "execute_result"
    }
   ],
   "source": [
    "import numpy as np\n",
    "from sklearn.metrics import jaccard_score\n",
    "y_true = np.array([[0, 1, 1],\n",
    "                   [1, 1, 0]])\n",
    "y_pred = np.array([[1, 1, 1],\n",
    "                  [1, 0, 0]])\n",
    "print(type(y_true[0]), y_pred[0])\n",
    "jaccard_score(y_true[0], y_pred[0])\n"
   ]
  },
  {
   "cell_type": "code",
   "execution_count": 14,
   "metadata": {},
   "outputs": [
    {
     "name": "stdout",
     "output_type": "stream",
     "text": [
      "(256, 256, 3) (256, 256, 3)\n",
      "Mean Jaccard Index: 0.0\n"
     ]
    }
   ],
   "source": [
    "import cv2\n",
    "import os\n",
    "import numpy as np\n",
    "from sklearn.metrics import jaccard_score\n",
    "\n",
    "def evaluate():\n",
    "    # Read result and label images\n",
    "    result_img = cv2.imread(\"E:/College/Fourth Year/second term/RSSI/Project/Change-Detection/classical_technique/white.png\")\n",
    "    label_img = cv2.imread(\"E:/College/Fourth Year/second term/RSSI/Project/Change-Detection/classical_technique/black.png\")\n",
    "    print(result_img.shape, label_img.shape)    \n",
    "    # Compute Jaccard Index\n",
    "    img_true=np.array(label_img).ravel()\n",
    "    img_pred=np.array(result_img).ravel()\n",
    "    jaccard_index = jaccard_score(img_true, img_pred,pos_label=255,zero_division=1)\n",
    "    print(\"Mean Jaccard Index:\", jaccard_index)\n",
    "evaluate()    "
   ]
  },
  {
   "cell_type": "code",
   "execution_count": 11,
   "metadata": {},
   "outputs": [
    {
     "data": {
      "text/plain": [
       "True"
      ]
     },
     "execution_count": 11,
     "metadata": {},
     "output_type": "execute_result"
    }
   ],
   "source": [
    "# create and save white image\n",
    "import numpy as np\n",
    "import cv2\n",
    "img = np.ones((256,256,3), np.uint8)*255\n",
    "cv2.imwrite(\"white.png\", img)\n",
    "img = np.zeros((256,256,3), np.uint8)*255\n",
    "cv2.imwrite(\"black.png\", img)"
   ]
  },
  {
   "cell_type": "code",
   "execution_count": 3,
   "metadata": {},
   "outputs": [
    {
     "name": "stdout",
     "output_type": "stream",
     "text": [
      "0\n"
     ]
    }
   ],
   "source": [
    "# create and save white image\n",
    "import numpy as np\n",
    "import cv2\n",
    "def calculate_white_pixel_sum(image_path):\n",
    "    # Read the image\n",
    "    image = cv2.imread(image_path, cv2.IMREAD_GRAYSCALE)\n",
    "    # Calculate the sum of white pixels\n",
    "    white_pixel_sum = cv2.countNonZero(image)  # Count non-zero (white) pixels\n",
    "    return white_pixel_sum\n",
    "print(calculate_white_pixel_sum(\"E:/College/Fourth Year/second term/RSSI/Project/Change-Detection/classical_technique/black.png\"))"
   ]
  }
 ],
 "metadata": {
  "kernelspec": {
   "display_name": "Python 3",
   "language": "python",
   "name": "python3"
  },
  "language_info": {
   "codemirror_mode": {
    "name": "ipython",
    "version": 3
   },
   "file_extension": ".py",
   "mimetype": "text/x-python",
   "name": "python",
   "nbconvert_exporter": "python",
   "pygments_lexer": "ipython3",
   "version": "3.11.4"
  }
 },
 "nbformat": 4,
 "nbformat_minor": 2
}
