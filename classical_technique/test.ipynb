{
 "cells": [
  {
   "cell_type": "code",
   "execution_count": 3,
   "metadata": {},
   "outputs": [
    {
     "name": "stdout",
     "output_type": "stream",
     "text": [
      "<class 'numpy.ndarray'> [1 1 1]\n"
     ]
    },
    {
     "data": {
      "text/plain": [
       "0.6666666666666666"
      ]
     },
     "execution_count": 3,
     "metadata": {},
     "output_type": "execute_result"
    }
   ],
   "source": [
    "import numpy as np\n",
    "from sklearn.metrics import jaccard_score\n",
    "y_true = np.array([[0, 1, 1],\n",
    "                   [1, 1, 0]])\n",
    "y_pred = np.array([[1, 1, 1],\n",
    "                  [1, 0, 0]])\n",
    "print(type(y_true[0]), y_pred[0])\n",
    "jaccard_score(y_true[0], y_pred[0])\n"
   ]
  },
  {
   "cell_type": "code",
   "execution_count": 2,
   "metadata": {},
   "outputs": [
    {
     "name": "stdout",
     "output_type": "stream",
     "text": [
      "(256, 256, 3) (256, 256, 3)\n",
      "Mean Jaccard Index: 0.0\n"
     ]
    }
   ],
   "source": [
    "import cv2\n",
    "import os\n",
    "import numpy as np\n",
    "from sklearn.metrics import jaccard_score\n",
    "\n",
    "def evaluate():\n",
    "    # Read result and label images\n",
    "    result_img = cv2.imread(\"E:/College/Fourth Year/second term/RSSI/Project/Change-Detection/classical_technique/white.png\")\n",
    "    label_img = cv2.imread(\"E:/College/Fourth Year/second term/RSSI/Project/Change-Detection/classical_technique/black.png\")\n",
    "    print(result_img.shape, label_img.shape)    \n",
    "    # Compute Jaccard Index\n",
    "    img_true=np.array(label_img).ravel()\n",
    "    img_pred=np.array(result_img).ravel()\n",
    "    jaccard_index = jaccard_score(img_true, img_pred,pos_label=255,zero_division=1)\n",
    "    print(\"Mean Jaccard Index:\", jaccard_index)\n",
    "evaluate()    "
   ]
  },
  {
   "cell_type": "code",
   "execution_count": null,
   "metadata": {},
   "outputs": [],
   "source": [
    "# create and save white image\n",
    "import numpy as np\n",
    "import cv2\n",
    "img = np.ones((256,256,3), np.uint8)*255\n",
    "cv2.imwrite(\"white.png\", img)\n",
    "img = np.zeros((256,256,3), np.uint8)*255\n",
    "cv2.imwrite(\"black.png\", img)"
   ]
  },
  {
   "cell_type": "code",
   "execution_count": 3,
   "metadata": {},
   "outputs": [
    {
     "name": "stdout",
     "output_type": "stream",
     "text": [
      "0\n"
     ]
    }
   ],
   "source": [
    "# create and save white image\n",
    "import numpy as np\n",
    "import cv2\n",
    "def calculate_white_pixel_sum(image_path):\n",
    "    # Read the image\n",
    "    image = cv2.imread(image_path, cv2.IMREAD_GRAYSCALE)\n",
    "    # Calculate the sum of white pixels\n",
    "    white_pixel_sum = cv2.countNonZero(image)  # Count non-zero (white) pixels\n",
    "    return white_pixel_sum\n",
    "print(calculate_white_pixel_sum(\"E:/College/Fourth Year/second term/RSSI/Project/Change-Detection/classical_technique/black.png\"))"
   ]
  },
  {
   "cell_type": "code",
   "execution_count": 22,
   "metadata": {},
   "outputs": [],
   "source": [
    "from skimage import exposure\n",
    "import cv2\n",
    "import numpy as np\n",
    "def preprocess_image(image):\n",
    "    # Convert image to uint8 data type and ensure it's in the range [0, 255]\n",
    "    # image = cv2.convertScaleAbs(image, alpha=1.0, beta=0)\n",
    "    # Apply histogram equalization to each color channel separately\n",
    "    # equalized_channels = [exposure.equalize_hist(image[:, :, i]) for i in range(image.shape[2])]\n",
    "    # image = np.stack(equalized_channels, axis=-1)\n",
    "    # # Apply Gaussian blur\n",
    "    # # image = cv2.GaussianBlur(image, (15, 15), 0)\n",
    "    # image = (image * 255).astype(np.uint8)\n",
    "    # image=cv2.medianBlur(image, 5)\n",
    "    # convert to yuv domani\n",
    "    image = cv2.cvtColor(image, cv2.COLOR_BGR2YUV)\n",
    "    image=image[:,:,-1]\n",
    "    image = cv2.equalizeHist(image)\n",
    "    cv2.imshow(\"Preprocessed Image\", image)\n",
    "    cv2.waitKey(0)\n",
    "    cv2.destroyAllWindows()\n",
    "    return image\n",
    "\n",
    "# Read the image\n",
    "image = cv2.imread(\"E:/College/Fourth Year/second term/RSSI/Project/Change-Detection/trainval/try_valid/B/0069.png\")\n",
    "# Preprocess the image\n",
    "preprocessed_image = preprocess_image(image)\n",
    "# Save the preprocessed image\n",
    "cv2.imwrite(\"preprocessed_image.jpg\", preprocessed_image)\n",
    "# Display the preprocessed image\n",
    "cv2.imshow(\"Preprocessed Image\", preprocessed_image)\n",
    "cv2.waitKey(0)\n",
    "cv2.destroyAllWindows()\n"
   ]
  },
  {
   "cell_type": "code",
   "execution_count": 29,
   "metadata": {},
   "outputs": [],
   "source": [
    "# def image_differencing(images_A, images_B):\n",
    "#     results_img=[]\n",
    "#     image_number=0\n",
    "#     for img_A, img_B in zip(images_A, images_B):\n",
    "#         # change 2 images to binary\n",
    "#         img_A = cv2.cvtColor(img_A, cv2.COLOR_BGR2GRAY)\n",
    "#         img_B = cv2.cvtColor(img_B, cv2.COLOR_BGR2GRAY)\n",
    "#         # calculate histogram\n",
    "#         THRESHOLD_A= cv2.mean(img_A)[0]\n",
    "#         img_A = cv2.threshold(img_A, THRESHOLD_A, 255, cv2.THRESH_BINARY)[1]\n",
    "#         THRESHOLD_B= cv2.mean(img_B)[0]\n",
    "#         img_B = cv2.threshold(img_B, THRESHOLD_B, 255, cv2.THRESH_BINARY)[1]\n",
    "#         # Compute the absolute difference between the images\n",
    "#         change_mask = np.abs(img_A - img_B)\n",
    "#         change_mask = change_mask.astype(np.uint8) * 255\n",
    "#         results_img.append(change_mask)\n",
    "#         image_number+=1\n",
    "#     return results_img\n",
    "def image_differencing(images_A, images_B):\n",
    "    results_img=[]\n",
    "    image_number=0\n",
    "    for img_A, img_B in zip(images_A, images_B):\n",
    "        # change 2 images to binary\n",
    "        # img_A = cv2.cvtColor(img_A, cv2.COLOR_BGR2GRAY)\n",
    "        # img_B = cv2.cvtColor(img_B, cv2.COLOR_BGR2GRAY)\n",
    "        img_A = cv2.cvtColor(img_A, cv2.COLOR_BGR2YUV)\n",
    "        img_B = cv2.cvtColor(img_B, cv2.COLOR_BGR2YUV)\n",
    "        img_A=img_A[:,:,-1]\n",
    "        img_B=img_B[:,:,-1]\n",
    "        THRESHOLD_A= cv2.mean(img_A)[0]\n",
    "        img_A = cv2.threshold(img_A, THRESHOLD_A, 255, cv2.THRESH_BINARY)[1]\n",
    "        THRESHOLD_B= cv2.mean(img_B)[0]\n",
    "        img_B = cv2.threshold(img_B, THRESHOLD_B, 255, cv2.THRESH_BINARY)[1]\n",
    "        diff_img = cv2.absdiff(img_A, img_B)\n",
    "        # show the images\n",
    "        cv2.imshow(\"Image A\", img_A)\n",
    "        cv2.imshow(\"Image B\", img_B)\n",
    "        cv2.imshow(\"Difference Image\", diff_img)\n",
    "        cv2.waitKey(0)\n",
    "        cv2.destroyAllWindows()\n",
    "        # # calculate histogram\n",
    "        # THRESHOLD_A= cv2.mean(img_A)[0]\n",
    "        # img_A = cv2.threshold(img_A, THRESHOLD_A, 255, cv2.THRESH_BINARY)[1]\n",
    "        # THRESHOLD_B= cv2.mean(img_B)[0]\n",
    "        # img_B = cv2.threshold(img_B, THRESHOLD_B, 255, cv2.THRESH_BINARY)[1]\n",
    "        # # Compute the absolute difference between the images\n",
    "        # change_mask = np.abs(img_A - img_B)\n",
    "        # change_mask = change_mask.astype(np.uint8) * 255\n",
    "        # results_img.append(change_mask)\n",
    "        # image_number+=1\n",
    "    return results_img\n",
    "# Read the images\n",
    "images_A = [cv2.imread(\"E:/College/Fourth Year/second term/RSSI/Project/Change-Detection/trainval/try_valid/A/0069.png\")]\n",
    "images_B = [cv2.imread(\"E:/College/Fourth Year/second term/RSSI/Project/Change-Detection/trainval/try_valid/B/0069.png\")]\n",
    "# Compute the difference between the images\n",
    "change_mask = image_differencing(images_A, images_B)\n",
    "# Display the change mask\n",
    "# cv2.imshow(\"Change Mask\", change_mask[0])\n",
    "# cv2.waitKey(0)\n",
    "# cv2.destroyAllWindows()"
   ]
  },
  {
   "cell_type": "code",
   "execution_count": 3,
   "metadata": {},
   "outputs": [],
   "source": [
    "# def image_differencing(images_A, images_B):\n",
    "#     results_img=[]\n",
    "#     image_number=0\n",
    "#     for img_A, img_B in zip(images_A, images_B):\n",
    "#         # change 2 images to binary\n",
    "#         img_A = cv2.cvtColor(img_A, cv2.COLOR_BGR2GRAY)\n",
    "#         img_B = cv2.cvtColor(img_B, cv2.COLOR_BGR2GRAY)\n",
    "#         # calculate histogram\n",
    "#         THRESHOLD_A= cv2.mean(img_A)[0]\n",
    "#         img_A = cv2.threshold(img_A, THRESHOLD_A, 255, cv2.THRESH_BINARY)[1]\n",
    "#         THRESHOLD_B= cv2.mean(img_B)[0]\n",
    "#         img_B = cv2.threshold(img_B, THRESHOLD_B, 255, cv2.THRESH_BINARY)[1]\n",
    "#         # Compute the absolute difference between the images\n",
    "#         change_mask = np.abs(img_A - img_B)\n",
    "#         change_mask = change_mask.astype(np.uint8) * 255\n",
    "#         results_img.append(change_mask)\n",
    "#         image_number+=1\n",
    "#     return results_img\n",
    "def image_differencing(images_A, images_B):\n",
    "    results_img=[]\n",
    "    image_number=0\n",
    "    for img_A, img_B in zip(images_A, images_B):\n",
    "        # change 2 images to binary\n",
    "        # img_A = cv2.cvtColor(img_A, cv2.COLOR_BGR2GRAY)\n",
    "        # img_B = cv2.cvtColor(img_B, cv2.COLOR_BGR2GRAY)\n",
    "        img_A = cv2.cvtColor(img_A, cv2.COLOR_BGR2HSV)\n",
    "        img_B = cv2.cvtColor(img_B, cv2.COLOR_BGR2HSV)\n",
    "        \n",
    "        # drop value channel\n",
    "        img_A=img_A[:,:,0]\n",
    "        img_B=img_B[:,:,0]\n",
    "        THRESHOLD_A= cv2.mean(img_A)[0]\n",
    "        img_A = cv2.threshold(img_A, THRESHOLD_A, 255, cv2.THRESH_BINARY)[1]\n",
    "        THRESHOLD_B= cv2.mean(img_B)[0]\n",
    "        img_B = cv2.threshold(img_B, THRESHOLD_B, 255, cv2.THRESH_BINARY)[1]\n",
    "        diff_img = cv2.absdiff(img_A, img_B)\n",
    "        # # calculate histogram\n",
    "        # THRESHOLD_A= cv2.mean(img_A)[0]\n",
    "        # img_A = cv2.threshold(img_A, THRESHOLD_A, 255, cv2.THRESH_BINARY)[1]\n",
    "        # THRESHOLD_B= cv2.mean(img_B)[0]\n",
    "        # img_B = cv2.threshold(img_B, THRESHOLD_B, 255, cv2.THRESH_BINARY)[1]\n",
    "        # # Compute the absolute difference between the images\n",
    "        # change_mask = np.abs(img_A - img_B)\n",
    "        # change_mask = change_mask.astype(np.uint8) * 255\n",
    "        results_img.append(diff_img)\n",
    "        # image_number+=1\n",
    "    return results_img \n",
    "# Read the images\n",
    "images_A = [cv2.imread(\"E:/College/Fourth Year/second term/RSSI/Project/Change-Detection/trainval/try_valid/A/0069.png\")]\n",
    "images_B = [cv2.imread(\"E:/College/Fourth Year/second term/RSSI/Project/Change-Detection/trainval/try_valid/B/0069.png\")]\n",
    "# Compute the difference between the images\n",
    "change_mask = image_differencing(images_A, images_B)\n",
    "# Display the change mask\n",
    "# cv2.imshow(\"Change Mask\", change_mask[0])\n",
    "# cv2.waitKey(0)\n",
    "# cv2.destroyAllWindows()"
   ]
  }
 ],
 "metadata": {
  "kernelspec": {
   "display_name": "Python 3",
   "language": "python",
   "name": "python3"
  },
  "language_info": {
   "codemirror_mode": {
    "name": "ipython",
    "version": 3
   },
   "file_extension": ".py",
   "mimetype": "text/x-python",
   "name": "python",
   "nbconvert_exporter": "python",
   "pygments_lexer": "ipython3",
   "version": "3.11.4"
  }
 },
 "nbformat": 4,
 "nbformat_minor": 2
}
